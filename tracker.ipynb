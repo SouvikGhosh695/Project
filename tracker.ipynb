# First, install the required module
import sys
import subprocess
from time import sleep
from datetime import datetime, timedelta

try:
    import geopy
except ImportError:
    print("Installing required module: geopy...")
    subprocess.check_call([sys.executable, "-m", "pip", "install", "geopy"])
    import geopy  # Try importing again after installation

class LocationTracker:
    def __init__(self, use_simulation=True):
        self.use_simulation = use_simulation
        # Other initialization code would go here
    
    def get_location(self, phone_number):
        # This would be implemented with actual tracking logic
        # For now, returning simulated data
        if self.use_simulation:
            from datetime import datetime
            import random
            
            # Simulated coordinates (around New Delhi for demo)
            lat = 28.6139 + random.uniform(-0.05, 0.05)
            lng = 77.2090 + random.uniform(-0.05, 0.05)
            
            # Use geopy to get address from coordinates
            from geopy.geocoders import Nominatim
            geolocator = Nominatim(user_agent="location_tracker_demo")
            location = geolocator.reverse(f"{lat}, {lng}")
            address = location.raw['address']
            
            return {
                'timestamp': datetime.now().strftime("%Y-%m-%d %H:%M:%S"),
                'coordinates': f"{lat:.6f}, {lng:.6f}",
                'address': location.address,
                'street': address.get('road', 'Unknown'),
                'city': address.get('city', address.get('town', 'Unknown')),
                'state': address.get('state', 'Unknown'),
                'postcode': address.get('postcode', 'Unknown'),
                'country': address.get('country', 'Unknown')
            }
        else:
            # In a real app, this would connect to Firebase or another service
            print("Real tracking not implemented in this demo")
            return None
    
    def track_for_duration(self, phone_number, duration_minutes=5):
        """Track location for a specified duration in minutes"""
        end_time = datetime.now() + timedelta(minutes=duration_minutes)
        
        print(f"Starting tracking session for {duration_minutes} minutes...")
        while datetime.now() < end_time:
            location = self.get_location(phone_number)
            if location:
                self._display_location(location)
            sleep(30)  # Update every 30 seconds
        
        print("\nTracking session ended")

    def _display_location(self, location_data):
        """Display formatted location data"""
        print("\n=== LOCATION UPDATE ===")
        print(f"Time: {location_data['timestamp']}")
        print(f"Coordinates: {location_data['coordinates']}")
        print(f"Address: {location_data['address']}")
        print(f"Street: {location_data['street']}")
        print(f"City: {location_data['city']}")
        print(f"State: {location_data['state']}")
        print(f"Postal Code: {location_data['postcode']}")
        print(f"Country: {location_data['country']}")

# Example Usage
# Replace the sys.exit(0) with a break statement to exit the loop without terminating the kernel

if __name__ == "__main__":
    import sys
    
    print("=== LOCATION TRACKER DEMO (Educational Purposes Only) ===")
    
    tracker = LocationTracker(use_simulation=True)  # Change to False for Firebase
    
    # Example phone number - in reality this would need to be a registered device
    test_number = "9955223366"  # Indian format for demo
    
    while True:
        print("\nOptions:")
        print("1. Get current location")
        print("2. Track continuously for 5 minutes")
        print("3. Exit")
        
        choice = input("Select option: ")
        
        if choice == "1":
            location = tracker.get_location(test_number)
            if location:
                tracker._display_location(location)
            else:
                print("Could not retrieve location")
        
        elif choice == "2":
            tracker.track_for_duration(test_number)
        
        elif choice == "3":
            # Using break instead of sys.exit(0) to avoid kernel termination
            print("Exiting program...")
            break
        
        else:
            print("Invalid choice")
